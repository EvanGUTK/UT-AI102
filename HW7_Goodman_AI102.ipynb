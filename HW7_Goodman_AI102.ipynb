{
 "cells": [
  {
   "cell_type": "code",
   "execution_count": 50,
   "id": "551448f6-87e3-4a62-8f28-4c63ff54361f",
   "metadata": {},
   "outputs": [
    {
     "name": "stdout",
     "output_type": "stream",
     "text": [
      "Original:\n",
      " I oftenn enjoye programmming wit pyton! 😎,🔥, itz so much fnu! 🧠,💻\n",
      "\n",
      "Emoji Disc:\n",
      " I oftenn enjoye programmming wit pyton!  smiling face with sunglasses , fire , itz so much fnu!  brain , laptop \n",
      "\n",
      "Removed punctuation:\n",
      " ['I', 'oftenn', 'enjoye', 'programmming', 'wit', 'pyton', 'smiling', 'face', 'with', 'sunglasses', 'fire', 'itz', 'so', 'much', 'fnu', 'brain', 'laptop']\n",
      "\n",
      "Spell check:\n",
      " ['I', 'often', 'enjoy', 'programming', 'wit', 'python', 'smiling', 'face', 'with', 'sunglasses', 'fire', 'it', 'so', 'much', 'fun', 'brain', 'laptop']\n",
      "\n",
      "Stemming:\n",
      " ['i', 'often', 'enjoy', 'program', 'wit', 'python', 'smile', 'face', 'with', 'sunglass', 'fire', 'it', 'so', 'much', 'fun', 'brain', 'laptop']\n"
     ]
    },
    {
     "name": "stderr",
     "output_type": "stream",
     "text": [
      "[nltk_data] Downloading package punkt to\n",
      "[nltk_data]     C:\\Users\\usaas\\AppData\\Roaming\\nltk_data...\n",
      "[nltk_data]   Package punkt is already up-to-date!\n"
     ]
    }
   ],
   "source": [
    "#All imports\n",
    "\n",
    "import nltk\n",
    "nltk.download(\"punkt\")\n",
    "\n",
    "import demoji\n",
    "from spellchecker import SpellChecker\n",
    "from nltk.tokenize import word_tokenize\n",
    "from nltk.stem.porter import PorterStemmer\n",
    "import string\n",
    "\n",
    "#Text\n",
    "text = \"I oftenn enjoye programmming wit pyton! 😎,🔥, itz so much fnu! 🧠,💻\"\n",
    "print(\"Original:\\n\", text)\n",
    "\n",
    "#Emoji dictionary for disc\n",
    "emoji_dict = demoji.findall(text)\n",
    "for emoji, description in emoji_dict.items():\n",
    "    text = text.replace(emoji, f\" {description} \")\n",
    "\n",
    "print(\"\\nEmoji Disc:\\n\", text)\n",
    "\n",
    "#Tokenize to remove punc\n",
    "tokens = word_tokenize(text, preserve_line=True)\n",
    "tokens = [word for word in tokens if word not in string.punctuation]\n",
    "\n",
    "print(\"\\nRemoved punctuation:\\n\", tokens)\n",
    "\n",
    "#Spell checking original\n",
    "spell = SpellChecker()\n",
    "corrected_tokens = [spell.correction(word) for word in tokens]\n",
    "\n",
    "print(\"\\nSpell check:\\n\", corrected_tokens)\n",
    "\n",
    "#Stemm\n",
    "stemmer = PorterStemmer()\n",
    "tokens = [stemmer.stem(word) for word in corrected_tokens]\n",
    "\n",
    "print(\"\\nStemming:\\n\", tokens)\n"
   ]
  },
  {
   "cell_type": "code",
   "execution_count": null,
   "id": "b94f8e0b-fd30-4072-92da-bfb1512e35db",
   "metadata": {},
   "outputs": [],
   "source": []
  },
  {
   "cell_type": "code",
   "execution_count": null,
   "id": "e5613f09-a3cd-4891-9ca2-8a2bb57b309b",
   "metadata": {},
   "outputs": [],
   "source": []
  }
 ],
 "metadata": {
  "kernelspec": {
   "display_name": "Python [conda env:base] *",
   "language": "python",
   "name": "conda-base-py"
  },
  "language_info": {
   "codemirror_mode": {
    "name": "ipython",
    "version": 3
   },
   "file_extension": ".py",
   "mimetype": "text/x-python",
   "name": "python",
   "nbconvert_exporter": "python",
   "pygments_lexer": "ipython3",
   "version": "3.12.7"
  }
 },
 "nbformat": 4,
 "nbformat_minor": 5
}
