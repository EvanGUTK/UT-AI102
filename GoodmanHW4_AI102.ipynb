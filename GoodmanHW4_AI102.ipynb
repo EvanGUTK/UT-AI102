{
 "cells": [
  {
   "cell_type": "code",
   "execution_count": 53,
   "id": "049ee2f4-a105-4797-af81-1c2f9710251b",
   "metadata": {},
   "outputs": [
    {
     "name": "stdout",
     "output_type": "stream",
     "text": [
      "Part 1\n",
      "\n",
      "Calling Card Purchase\n",
      "\n",
      "Available options: $5, $10, $25, $50, $100\n"
     ]
    },
    {
     "name": "stdin",
     "output_type": "stream",
     "text": [
      "\n",
      "Enter amount you want to charge your card with:  $ 100\n"
     ]
    },
    {
     "name": "stdout",
     "output_type": "stream",
     "text": [
      "\n",
      "Total call time recived, $120.\n",
      "\n",
      "Part 2\n"
     ]
    },
    {
     "name": "stdin",
     "output_type": "stream",
     "text": [
      "Enter your message:  yo\n"
     ]
    },
    {
     "name": "stdout",
     "output_type": "stream",
     "text": [
      "\n",
      "Message accepted: yo\n"
     ]
    }
   ],
   "source": [
    "print(\"Part 1\")\n",
    "\n",
    "def total_calling_card_amount():\n",
    "    print(\"\\nCalling Card Purchase\")\n",
    "    print(\"\\nAvailable options: $5, $10, $25, $50, $100\")\n",
    "    \n",
    "    amount = int(input(\"\\nEnter amount you want to charge your card with:  $\"))\n",
    "\n",
    "    # Loop though amount being charged\n",
    "    if amount == 5 or amount == 10:\n",
    "        total = amount\n",
    "    elif amount == 25:\n",
    "        total = amount + 3\n",
    "    elif amount == 50:\n",
    "        total = amount + 8\n",
    "    elif amount == 100:\n",
    "        total = amount + 20\n",
    "    else:\n",
    "        print(\"Option not available. Please enter $5, $10, $25, $50, or $100.\")\n",
    "        return\n",
    "    \n",
    "    print(f\"\\nTotal call time recived, ${total}.\")\n",
    "\n",
    "# Call function\n",
    "total_calling_card_amount()\n",
    "\n",
    "print(\"\\nPart 2\")\n",
    "\n",
    "def check_message_length():\n",
    "    message = input(\"Enter your message: \")\n",
    "\n",
    "    # Loops to check if characters are within 160 or not\n",
    "    if len(message) <= 160:\n",
    "        print(f\"\\nMessage accepted: {message}\")\n",
    "    else:\n",
    "        print(f\"Your message exceeds 160 characters. Truncated message: {message[:160]}\")\n",
    "\n",
    "# Call function\n",
    "check_message_length()\n"
   ]
  },
  {
   "cell_type": "code",
   "execution_count": null,
   "id": "19bdbca6-f7f6-4311-ad5c-07cb4611de2a",
   "metadata": {},
   "outputs": [],
   "source": []
  }
 ],
 "metadata": {
  "kernelspec": {
   "display_name": "Python [conda env:base] *",
   "language": "python",
   "name": "conda-base-py"
  },
  "language_info": {
   "codemirror_mode": {
    "name": "ipython",
    "version": 3
   },
   "file_extension": ".py",
   "mimetype": "text/x-python",
   "name": "python",
   "nbconvert_exporter": "python",
   "pygments_lexer": "ipython3",
   "version": "3.12.7"
  }
 },
 "nbformat": 4,
 "nbformat_minor": 5
}
