{
 "cells": [
  {
   "cell_type": "code",
   "execution_count": 27,
   "id": "0953acb1-391a-4712-9579-63ebc3875fec",
   "metadata": {},
   "outputs": [
    {
     "name": "stdout",
     "output_type": "stream",
     "text": [
      "Part 1\n"
     ]
    },
    {
     "name": "stdin",
     "output_type": "stream",
     "text": [
      "\n",
      "Enter the radius of the sphere in inches:  2\n"
     ]
    },
    {
     "name": "stdout",
     "output_type": "stream",
     "text": [
      "\n",
      "The volume of the sphere with a radius of 2.0 inches is 33.49 cubic inches.\n",
      "\n",
      "Student Grades:\n",
      "John: Your average score is 86.80 and your grade is B,\n",
      "Evan: Your average score is 76.60 and your grade is C,\n",
      "Jack: Your average score is 95.40 and your grade is A,\n",
      "Johnny: Your average score is 62.60 and your grade is D,\n",
      "Jill: Your average score is 84.60 and your grade is B,\n",
      "Jackie: Your average score is 51.30 and your grade is F,\n",
      "Josh: Your average score is 75.40 and your grade is C,\n"
     ]
    }
   ],
   "source": [
    "print(\"Part 1\")\n",
    "\n",
    "#Program to calculate users radius \n",
    "def sphere_volume():\n",
    "    radius = float(input(\"\\nEnter the radius of the sphere in inches: \"))\n",
    "    # Given Formula\n",
    "    volume = (4/3) * 3.14 * (radius ** 3)\n",
    "    print(f\"\\nThe volume of the sphere with a radius of {radius} inches is {round(volume, 2)} cubic inches.\")\n",
    "\n",
    "#Part 2\n",
    "\n",
    "\n",
    "#Average grades of all students\n",
    "def grades():\n",
    "    students = {\n",
    "        \"John\": [85, 90, 78, 92, 88, 76, 95, 89, 84, 91],\n",
    "        \"Evan\": [72, 65, 80, 79, 68, 90, 85, 76, 81, 70],\n",
    "        \"Jack\": [95, 92, 90, 96, 97, 93, 94, 99, 98, 100],\n",
    "        \"Johnny\": [60, 55, 65, 70, 58, 62, 59, 63, 66, 68],\n",
    "        \"Jill\": [88, 82, 85, 89, 90, 78, 84, 80, 87, 83],\n",
    "        \"Jackie\": [45, 50, 55, 48, 52, 60, 57, 51, 49, 46],\n",
    "        \"Josh\": [75, 78, 72, 70, 77, 79, 80, 74, 76, 73]\n",
    "    }\n",
    "\n",
    "#Grade averages\n",
    "    def letter(avg):\n",
    "        if avg >= 90:\n",
    "            return 'A'\n",
    "        elif avg >= 80:\n",
    "            return 'B'\n",
    "        elif avg >= 70:\n",
    "            return 'C'\n",
    "        elif avg >= 60:\n",
    "            return 'D'\n",
    "        else:\n",
    "            return 'F'\n",
    "\n",
    "    for name, scores, in students.items():\n",
    "        avg = sum(scores) / len(scores)\n",
    "        print(f\"{name}: Your average score is {avg:.2f} and your grade is {letter(avg)},\")\n",
    "\n",
    "# Run the functions\n",
    "sphere_volume()\n",
    "print(\"\\nStudent Grades:\")\n",
    "grades()\n"
   ]
  },
  {
   "cell_type": "code",
   "execution_count": null,
   "id": "97253345-09d8-4586-b89c-fec92aa8a6d5",
   "metadata": {},
   "outputs": [],
   "source": []
  }
 ],
 "metadata": {
  "kernelspec": {
   "display_name": "Python [conda env:base] *",
   "language": "python",
   "name": "conda-base-py"
  },
  "language_info": {
   "codemirror_mode": {
    "name": "ipython",
    "version": 3
   },
   "file_extension": ".py",
   "mimetype": "text/x-python",
   "name": "python",
   "nbconvert_exporter": "python",
   "pygments_lexer": "ipython3",
   "version": "3.12.7"
  }
 },
 "nbformat": 4,
 "nbformat_minor": 5
}
